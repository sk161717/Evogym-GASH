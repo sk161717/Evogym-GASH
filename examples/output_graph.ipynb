{
 "cells": [
  {
   "cell_type": "code",
   "execution_count": 11,
   "id": "bacterial-invention",
   "metadata": {},
   "outputs": [
    {
     "name": "stdout",
     "output_type": "stream",
     "text": [
      "     index evaluation     score    type\n",
      "0        0         32  1.810245  normal\n",
      "1        1         64  2.960265  normal\n",
      "2        2         96  3.696758  normal\n",
      "3        3        128  3.696758  normal\n",
      "4        4        160  3.788749  normal\n",
      "..     ...        ...       ...     ...\n",
      "845     27      616.0  6.491291    fast\n",
      "846     28      638.0  8.549723    fast\n",
      "847     29      660.0  8.549723    fast\n",
      "848     30      682.0  8.549723    fast\n",
      "849     31      704.0  8.549723    fast\n",
      "\n",
      "[850 rows x 4 columns]\n"
     ]
    },
    {
     "data": {
      "image/png": "[encoded data removed]",
      "text/plain": [
       "<Figure size 432x288 with 1 Axes>"
      ]
     },
     "metadata": {
      "needs_background": "light"
     },
     "output_type": "display_data"
    }
   ],
   "source": [
    "import numpy as np\n",
    "import matplotlib.pyplot as plt\n",
    "import os\n",
    "from pathlib import Path\n",
    "import pandas as pd\n",
    "import seaborn as sns\n",
    "\n",
    "root_dir = os.path.dirname(Path().resolve())\n",
    "root_dir=os.path.join(root_dir, 'examples')\n",
    "seed=10\n",
    "expr_name='Jumper-v0_PlatformJumper-v0'\n",
    "expr_name_normal='UpStepper-v0_TournamentGA'\n",
    "expr_name_fast='UpStepper-v0_TournamentFastGA'\n",
    "\n",
    "\n",
    "\n",
    "generation=31\n",
    "\n",
    "\n",
    "def max_fit_list(save_dir,generation,is_multi=False):\n",
    "    fitness_gen=[]\n",
    "    evaluation_list=[]\n",
    "    for i in range(generation+1):\n",
    "        log_dir = os.path.join(save_dir,'generation_'+str(i),'output.txt')\n",
    "        with open(log_dir) as f:\n",
    "            fitnesses=[]\n",
    "            for line in f:\n",
    "                try:\n",
    "                    if is_multi:\n",
    "                        fitnesses.append(float(line.split()[2]))\n",
    "                    else:\n",
    "                        fitnesses.append(float(line.split()[1]))\n",
    "                except:\n",
    "                    evaluation_list.append(int(line.split()[2]))\n",
    "            if is_multi:\n",
    "                evaluation_list.append(fitnesses[len(fitnesses)-1])\n",
    "                del fitnesses[len(fitnesses)-1]\n",
    "            fitness_gen.append(max(fitnesses))\n",
    "    return fitness_gen,evaluation_list\n",
    "\n",
    "def average_graph(expr_name,seed_list,generation,is_multi):\n",
    "    mat=np.empty([0,generation+1])\n",
    "    for seed in seed_list:\n",
    "        log_dir=expr_name+'_seed:'+str(seed)\n",
    "        save_dir = os.path.join(root_dir, 'saved_data',log_dir)\n",
    "        fitness_list,evaluation_list=max_fit_list(save_dir,generation,is_multi=is_multi)\n",
    "        np_arr=np.array(fitness_list)[np.newaxis,:]\n",
    "        mat=np.concatenate([mat,np_arr])\n",
    "    data=np.average(mat,axis=0)\n",
    "    return data,evaluation_list\n",
    "\n",
    "def data_for_confidence(expr_name,seed_list,generation,is_multi,is_fast):\n",
    "    df=pd.DataFrame(columns=['evaluation','score'])\n",
    "    for seed in seed_list:\n",
    "        sub_df = pd.DataFrame(columns=['evaluation','score'])\n",
    "        log_dir=expr_name+'_seed:'+str(seed)\n",
    "        save_dir = os.path.join(root_dir, 'saved_data',log_dir)\n",
    "        fitness_list,evaluation_list=max_fit_list(save_dir,generation,is_multi=is_multi)\n",
    "        sub_df['evaluation'] = np.array([evaluation_list[i]*11/16.0 for i in range(generation+1)]) if is_fast else evaluation_list\n",
    "        sub_df['score'] = fitness_list\n",
    "        df = pd.concat([df,sub_df],axis=0)\n",
    "    elem='fast' if is_fast else 'normal'\n",
    "    df['type']=np.array([elem for i in range(len(df))])\n",
    "    return df\n",
    "\n",
    "# def data_for_confidence_multi(...):\n",
    "# data_for_confidence()\n",
    "# list\n",
    "# data['hue'] = list\n",
    "\n",
    "def plot_confidence(df):\n",
    "    \n",
    "    df=df.reset_index()\n",
    "    print(df)\n",
    "    sns.lineplot(x=\"evaluation\", y=\"score\", data=df,hue='type')\n",
    "    plt.xlabel('evaluation')\n",
    "    plt.savefig('evaluation_score.pdf')\n",
    "\n",
    "def plot_graph(data,eval_list,label,is_eval_base=True):\n",
    "    fig = plt.figure(figsize=(12, 8)) #...1\n",
    "    \n",
    "    # Figure内にAxesを追加()\n",
    "    ax = fig.add_subplot(111) #...2\n",
    "    if is_eval_base==False:\n",
    "        eval_list[1]=np.array(eval_list[1])/2\n",
    "    ax.plot(eval_list[1], data[1], label=label[1]) #...3\n",
    "    ax.plot(eval_list[0], data[0], label=label[0]) #...3\n",
    "    plt.xlabel('evaluations' if is_eval_base else 'evaluated design')\n",
    "    plt.ylabel('score of platformjumper')\n",
    "    plt.ylim([1.7,2.8])\n",
    "\n",
    "    # 凡例の表示\n",
    "    plt.legend()\n",
    "\n",
    "    # プロット表示(設定の反映)\n",
    "    plt.show()\n",
    "    \n",
    "\n",
    "#data_normal,eval_list_normal=average_graph(expr_name_normal,[0,100,6,9],31,False)\n",
    "#data_fast,eval_list_fast=average_graph(expr_name_fast,[6,7,8,9,10,11,12,13,14,15],31,False)\n",
    "df_normal=data_for_confidence(expr_name_normal,[0,1,3,6,7,8,9,10,11,12,13,14,15],25,False,False)\n",
    "df_fast=data_for_confidence(expr_name_fast,[0,1,2,3,4,5,6,7,8,9,10,11,12,13,14,15],31,False,True)\n",
    "#df_normal.head(5)\n",
    "plot_confidence(pd.concat([df_normal,df_fast]))\n",
    "#plot_graph([data_single,data_multi],[eval_list_single,eval_list_multi],['GA:4 seed average','multi:5 seed average'])"
   ]
  },
  {
   "cell_type": "code",
   "execution_count": 9,
   "id": "studied-marking",
   "metadata": {},
   "outputs": [
    {
     "name": "stdout",
     "output_type": "stream",
     "text": [
      "[0. 0. 0. 0. 0. 0. 0. 0. 0. 0. 0. 0. 0. 0. 0. 0. 0. 0. 0. 0.]\n"
     ]
    }
   ],
   "source": [
    "import numpy as np\n",
    "arr=np.zeros((2,10))\n",
    "print(np.ravel(arr))"
   ]
  },
  {
   "cell_type": "code",
   "execution_count": null,
   "id": "62c63f50",
   "metadata": {},
   "outputs": [],
   "source": []
  }
 ],
 "metadata": {
  "kernelspec": {
   "display_name": "Python 3 (ipykernel)",
   "language": "python",
   "name": "python3"
  },
  "language_info": {
   "codemirror_mode": {
    "name": "ipython",
    "version": 3
   },
   "file_extension": ".py",
   "mimetype": "text/x-python",
   "name": "python",
   "nbconvert_exporter": "python",
   "pygments_lexer": "ipython3",
   "version": "3.8.13"
  },
  "vscode": {
   "interpreter": {
    "hash": "436e21d33063c554f581f9df67c796985b1702d10362931738c8d0365ca590ba"
   }
  }
 },
 "nbformat": 4,
 "nbformat_minor": 5
}
