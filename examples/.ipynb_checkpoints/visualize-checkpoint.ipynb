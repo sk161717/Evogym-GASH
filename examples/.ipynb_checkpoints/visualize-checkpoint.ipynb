{
 "cells": [
  {
   "cell_type": "code",
   "execution_count": 46,
   "id": "bacterial-myanmar",
   "metadata": {
    "scrolled": true
   },
   "outputs": [],
   "source": [
    "import numpy as np\n",
    "from graphviz import Digraph\n",
    "import os\n",
    "from pathlib import Path\n",
    "root_dir = os.path.dirname(Path().resolve())\n",
    "root_dir=os.path.join(root_dir, 'examples','saved_data')\n",
    "expr_name='Jumper-v0_PlatformJumper-v0_seed:0'\n",
    "#expr_name='PlatformJumper-v0_TournamentGA_seed:10'\n",
    "gen=20\n",
    "path=os.path.join(root_dir,expr_name,'generation_'+str(gen),'lineage.txt')\n",
    "\n",
    "def load_index_score_dict(root_dir,expr_name,end_gen,is_multi=True):\n",
    "    index_score_dict={}\n",
    "    for i in range(end_gen+1):\n",
    "        path=os.path.join(root_dir,expr_name,'generation_'+str(i),'output.txt')\n",
    "        with open(path) as f:\n",
    "            for line in f:\n",
    "                try:\n",
    "                    if is_multi:\n",
    "                        index,score1,score2=line.split('\\t\\t')\n",
    "                        score1=str(round(float(score1),1))\n",
    "                        score2=str(round(float(score2),1))\n",
    "                        index_score_dict[index]=score1+' '+score2.split('\\n')[0]\n",
    "                    else:\n",
    "                        index,score=line.split('\\t\\t')\n",
    "                        score=str(round(float(score),1))\n",
    "                        index_score_dict[index]=score.split('\\n')[0]\n",
    "                except:\n",
    "                    pass\n",
    "    return index_score_dict\n",
    "\n",
    "def render_tree(root_dir,expr_name,gen,is_multi=True):\n",
    "    edges=[]\n",
    "    index_score_dict=load_index_score_dict(root_dir,expr_name,gen,is_multi=is_multi)\n",
    "    G = Digraph(format=\"png\")\n",
    "    G.attr(\"node\", shape=\"circle\")\n",
    "\n",
    "    with open(path,'r') as f:\n",
    "        for line in f:\n",
    "            child,parent=line.split(' ')\n",
    "            parent=parent.split('\\n')[0]\n",
    "            if int(parent)!=-1:\n",
    "                edges.append((parent,child))\n",
    "                G.node(parent,label=parent+'\\n'+index_score_dict[parent])\n",
    "                G.node(child,label=child+'\\n'+index_score_dict[child])\n",
    "\n",
    "\n",
    "    for i,j in edges:\n",
    "        G.edge(i,j)\n",
    "    save_path=os.path.join(root_dir,expr_name,'generation_'+str(gen),'tree')\n",
    "    G.render(save_path)\n",
    "\n",
    "render_tree(root_dir,expr_name,gen,is_multi=True)\n",
    "\n",
    "    "
   ]
  },
  {
   "cell_type": "code",
   "execution_count": null,
   "id": "4da340c5",
   "metadata": {},
   "outputs": [],
   "source": []
  }
 ],
 "metadata": {
  "kernelspec": {
   "display_name": "Python 3 (ipykernel)",
   "language": "python",
   "name": "python3"
  },
  "language_info": {
   "codemirror_mode": {
    "name": "ipython",
    "version": 3
   },
   "file_extension": ".py",
   "mimetype": "text/x-python",
   "name": "python",
   "nbconvert_exporter": "python",
   "pygments_lexer": "ipython3",
   "version": "3.8.13"
  }
 },
 "nbformat": 4,
 "nbformat_minor": 5
}
